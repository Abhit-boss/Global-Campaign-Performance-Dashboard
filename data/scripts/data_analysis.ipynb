{
 "cells": [
  {
   "cell_type": "markdown",
   "metadata": {},
   "source": [
    "# 📊 Global Campaign Data Analysis\n",
    "This notebook analyzes campaign performance metrics such as ROAS, Conversion Rate, and CPL."
   ]
  },
  {
   "cell_type": "code",
   "execution_count": null,
   "metadata": {},
   "outputs": [],
   "source": [
    "import pandas as pd\n",
    "\n",
    "# Load the dataset\n",
    "df = pd.read_csv('../data/campaign_data_global.csv')\n",
    "df"
   ]
  },
  {
   "cell_type": "code",
   "execution_count": null,
   "metadata": {},
   "outputs": [],
   "source": [
    "# Add calculated metrics\n",
    "df['ROAS'] = df['Revenue'] / df['Spend']\n",
    "df['Conversion Rate (%)'] = (df['Conversions'] / df['Leads']) * 100\n",
    "df['CPL'] = df['Spend'] / df['Leads']\n",
    "df"
   ]
  }
 ],
 "metadata": {
  "kernelspec": {
   "display_name": "Python 3",
   "language": "python",
   "name": "python3"
  },
  "language_info": {
   "name": "python"
  }
 },
 "nbformat": 4,
 "nbformat_minor": 4
}
